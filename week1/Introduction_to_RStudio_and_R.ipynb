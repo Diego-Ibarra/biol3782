{
 "cells": [
  {
   "cell_type": "markdown",
   "metadata": {},
   "source": [
    "<div class=\"big_title\">LAB 1: Introduction RStudio and R</div>\n",
    "\n",
    "BIO3782: Biologist's Toolkit (Dalhousie University)\n",
    "\n",
    "----------------------------------------"
   ]
  },
  {
   "cell_type": "markdown",
   "metadata": {},
   "source": [
    "# Lab mechanics (how to work through the labs of this course)\n",
    "\n",
    "For the labs in this course you will need 3 programs:\n",
    "\n",
    "1. ***Lab manual***: It is a web-page with instructions on what to do in the lab. If you are reading \"this\", you already found the lab manual. The ***Lab manual*** is viewed inside your browser (e.g. Firefox, Chrome, Safari, etc.).\n",
    "2. ***Brightspace LAB Questions***: In the ***Lab manual*** there are several questions that you will need to answer in a corresponding ***Brightspace LAB Questions***. Same as the ***Lab manual***, the ***Brightspace LAB Questions*** is viewed inside your browser (e.g. Firefox, Chrome, Safari, etc.). You can get to the Quizzes section in Brightspace following **Assessment > Quizzes** \n",
    "3. ***RStudio***: This is the main program where you will use to write and run R code. We'll talk more about RStudio below.\n",
    "\n",
    "## Work flow in a typical Lab\n",
    "\n",
    "<img src=\"./lab_mechanics.png\" width=\"750px\">\n",
    "\n",
    "<br>\n",
    "\n",
    "In most labs, you will be required to read along the ***Lab manual*** and copy-paste code from the ***lab manual*** into ***RStudio*** to run it. This will create output in the form of numbers, graphs, maps, etc. Occasionally, you will need to answer <span style=\"background-color:#ff9900;color:balck;font-size:15px;border:1px solid #666666;padding:1px\">questions</span>, which are written inside orange boxes like the one below. The questions need to be answered in the corresponding ***Brightspace LAB Questions***. So, you will be jumping back and forth between the ***Lab manual***, ***RStudio*** and the ***Brightspace LAB Questions*** throughout the lab.\n",
    "\n",
    "Let's do a test question...\n"
   ]
  },
  {
   "cell_type": "markdown",
   "metadata": {},
   "source": [
    "<div class=\"Q\"><br><br>\n",
    "\n",
    "Sample question: Can you see THIS question in your Brightspace <b>LAB quiz?</b>\n",
    "\n",
    "<br><br><div class=\"qhelp\"></div></div>\n"
   ]
  },
  {
   "cell_type": "markdown",
   "metadata": {},
   "source": [
    "# Where is my code?\n",
    "\n",
    "Data, code and the results produced by the code can be stored in many places, including:\n",
    "\n",
    "1. **\"The cloud\"** (e.g. BrightSpace, your OneDrive, GitHub, a website, etc.)\n",
    "2. Your \"physical\" computer (like the computer that you are working on at this moment). Within your computer, data and code can be stored:\n",
    "    * in the **hard-drive**,\n",
    "    * in **memory** and\n",
    "    * on the **screen**\n",
    "\n",
    "<img src=\"../media/cloud_computer.png\" width=\"500px\">\n",
    "\n",
    "Note that:\n",
    "* **Computers** can ONLY see and work with code and data stored in **memory**\n",
    "* **Humans** can ONLY see code and data shown on the **screen**\n",
    "* When turning your computer off, code/data in both the **memory** and the **screen** are <span style='color:red'>lost forever!</span> Therefore, make sure that you save your work on your **hard-drive** or **the cloud**, before turning your computer off. \n",
    "\n",
    "We will see below how to move code (and data) between all these storage areas (i.e. memory, hard-drive, screen, cloud). <span class=\"important\"></span> keeping track of where is your code/data stored, is one of the most common sources of errors during coding.\n"
   ]
  },
  {
   "cell_type": "markdown",
   "metadata": {},
   "source": [
    "# R\n",
    "\n",
    "<img src=\"../media/R_logo.png\" width=\"150px\">\n",
    "\n",
    "['R'](https://www.r-project.org) is the most commonly used programming language among biologists today, primarily due to its [object-oriented](https://en.wikipedia.org/wiki/Object-oriented_programming) syntax and its powerful statistical and graphics capabilities. `R` was preinstalled in all Lab computers; however, if you want to follow along in your own laptop, you can install R directly from https://www.r-project.org\n",
    "\n",
    "Note that when you installed `R`, a lot of code was copied from **\"The Cloud\"** into your **hard-drive**, in a location that we will call \"the R Directory\". The actual location of \"the R Directory\" is not important to us in this course. However, if you are curious and try to find it, just make sure that you **DO NOT** move, delete or add anything within \"the R Directory\"! You can break R's proper functioning. "
   ]
  },
  {
   "cell_type": "markdown",
   "metadata": {},
   "source": [
    "## Micro-introduction to coding in R\n",
    "\n",
    "Code of any programing language is made by a mixture of `variables`, `functions`, `arguments`, `comments`, `data`, `packages`, `operators` and a few other \"objects\". Learning any specific programming language entails to learn the specific \"syntax\" on how to work with these different types of \"objects\".\n",
    "\n",
    "In this first lab, your job will be to learn to tell apart all these different types of \"objects\". Below are pointers to help you:\n",
    "\n",
    "<br><br>\n",
    "\n",
    "<table>\n",
    "<tr>\n",
    "    <td style=\"text-align:left; vertical-align:top; font-weight: bold; font-size: 14px\">Object type</td>\n",
    "    <td style=\"text-align:left; vertical-align:top; font-weight: bold; font-size: 14px\">What do they do?</td>\n",
    "    <td style=\"text-align:left; vertical-align:top; font-weight: bold; font-size: 14px\">How to spot them?</td>\n",
    "</tr>\n",
    "<tr>\n",
    "    <td style=\"text-align:left; vertical-align:top;\"><span class=\"codeX\">Variables</span></td>\n",
    "    <td style=\"text-align:left; vertical-align:top;\">They store <span class=\"codeX\">data</span> or other objects</td>\n",
    "    <td style=\"text-align:left; vertical-align:top;\">They are <b>ALWAYS made by the user</b> (i.e. you) using the \"arrow operator\" (i.e. <span class=\"codeX\">&lt;-</span>).\n",
    "        <br>Example: In <span class=\"codeX\">y &lt;- 9702</span>... <span class=\"codeX\">y</span> is a <span class=\"codeX\">variable</span><br><br>\n",
    "        Following the example above, pretend that a few lines down the <span class=\"codeX\">y &lt;- 9702</span> code you find the following stament:<br><br>\n",
    "        <span class=\"codeX\">print(y)</span><br><br>\n",
    "        \n",
    "Now you are wondering if the <span class=\"codeX\">y</span> in <span class=\"codeX\">print(y)</span> is a variable or not. To solve this, you may have to <b>read the code above</b> to see if you find a statement that declares (i.e. makes) the variable, in this case <span class=\"codeX\">y &lt;- 9702</span>. In other words, sometimes you have to quickly read the code <b>ABOVE</b> a \"statement of interest\" to see which parts are <span class=\"codeX\">variables</span>.\n",
    "    </td>\n",
    "</tr>\n",
    "<tr>\n",
    "    <td style=\"text-align:left; vertical-align:top;\"><span class=\"codeX\">Functions</span></td>\n",
    "    <td style=\"text-align:left; vertical-align:top;\">This is how R does its magic! <br> They are \"commands\" that come included in R, and that do things like calculate means, make graphs, do stats, etc. </td>\n",
    "    <td style=\"text-align:left; vertical-align:top;\">Functions follow one the syntaxes below. Note that <b>parentheses <span class=\"codeX\">( )</span> ALWAYS accompany</b> <span class=\"codeX\">functions</span>:\n",
    "    <ul>\n",
    "      <li><span class=\"codeX\">FunctionName()</span></li>\n",
    "      <li><span class=\"codeX\">FunctionName(arguments)</span></li>\n",
    "      <li><span class=\"codeX\">Function.Name(arguments)</span></li>\n",
    "    </ul>\n",
    "        <br>Example: In <span class=\"codeX\">print(y)</span>... <span class=\"codeX\">print</span> is a <span class=\"codeX\">function</span>   \n",
    "    </td>\n",
    "</tr>\n",
    "<tr>\n",
    "    <td style=\"text-align:left; vertical-align:top;\"><span class=\"codeX\">Arguments</span></td>\n",
    "    <td style=\"text-align:left; vertical-align:top;\">They are instructions to guide the function on how to do their task properly.     </td>\n",
    "    <td style=\"text-align:left; vertical-align:top;\">They are always <b>inside the parentheses of a function</b> (technically, <span class=\"codeX\">input</span> is also an argument). Note that <span class=\"codeX\">Variables</span> are often placed inside the parentheses of a <span class=\"codeX\">Function</span> to be used as <span class=\"codeX\">Arguments</span> of the Function.\n",
    "        <br>Example: In <span class=\"codeX\">print(\"Hello World\")</span>... <span class=\"codeX\">\"Hello World\"</span> is a <span class=\"codeX\">argument</span>\n",
    "    </td>\n",
    "</tr>\n",
    "<tr>\n",
    "    <td style=\"text-align:left; vertical-align:top;\"><span class=\"codeX\">Packages</span></td>\n",
    "    <td style=\"text-align:left; vertical-align:top;\">Packages or Libraries are a collection of additional Functions that you can install, load and use along with the R-included functions.</td>\n",
    "    <td style=\"text-align:left; vertical-align:top;\">They are loaded using the syntax <span class=\"codeX\">library(PackageName)</span>.\n",
    "        <br>Example: In <span class=\"codeX\">library(ggplot2)</span>... <span class=\"codeX\">ggplot2</span> is a <span class=\"codeX\">package</span>\n",
    "    </td>\n",
    "</tr>\n",
    "<tr>\n",
    "    <td style=\"text-align:left; vertical-align:top;\"><span class=\"codeX\">Comments</span></td>\n",
    "    <td style=\"text-align:left; vertical-align:top;\">They are lines meant for human-eyes-only and thus are ignored by     R</td>\n",
    "    <td style=\"text-align:left; vertical-align:top;\">Comments lines ALWAYS start with a hashtag <span class=\"codeX\">#</span>\n",
    "        <br>Example: In <span class=\"codeX\">y &lt;- 9702 # this is a new variable </span>... <span class=\"codeX\"># this is a new variable</span> is a <span class=\"codeX\">comment</span>\n",
    "    </td>\n",
    "</tr>\n",
    "<tr>\n",
    "    <td style=\"text-align:left; vertical-align:top;\"><span class=\"codeX\">Data</span></td>\n",
    "    <td style=\"text-align:left; vertical-align:top;\">These are numbers or letters.     </td>\n",
    "    <td style=\"text-align:left; vertical-align:top;\">These are numbers or letters surrounded by quotes <span class=\"codeX\">\" \"</span>. Note that <span class=\"codeX\">Data</span> can be placed inside the parentheses of a <span class=\"codeX\">Function</span> to be used as <span class=\"codeX\">Arguments</span> of the Function.\n",
    "<br>Example: In <span class=\"codeX\">y &lt;- 9702</span>... <span class=\"codeX\">9702</span> is <span class=\"codeX\">data</span>\n",
    "    </td>\n",
    "</tr>\n",
    "</table>\n",
    "\n",
    "<br><br>\n",
    "\n",
    "Take a look at the code below and see if you can figure out what are the different \"objects\" used in this code... when you are done, you can take a look at the answer below.\n",
    "\n",
    "Consider the following `R` code, which prints-to-screen `9` and `\"Hello World\"`:"
   ]
  },
  {
   "cell_type": "code",
   "execution_count": 1,
   "metadata": {},
   "outputs": [
    {
     "name": "stdout",
     "output_type": "stream",
     "text": [
      "[1] 9\n",
      "[1] \"Hello World\"\n"
     ]
    }
   ],
   "source": [
    "# Lets do some variables\n",
    "x <- 9\n",
    "my_var <- \"Hello World\"\n",
    "\n",
    "# Now, lets print the variables to screen\n",
    "print(x)\n",
    "print(my_var)"
   ]
  },
  {
   "cell_type": "markdown",
   "metadata": {},
   "source": [
    "-------------------------\n",
    "ANSWER: \n",
    "\n",
    "* `# Lets do some variables` is a `comment` (in line 1)\n",
    "* `x` and `my_var` are `variables` (created in lines 2 and 3)\n",
    "* `# Now, lets print the variables to screen` is a `comment` (in line 5)\n",
    "* `9` and `\"Hello World\"` are `data` (in lines 2 and 3)\n",
    "* `print` is a `function` (same `function` in lines 6 and 7)\n",
    "* The `x` in `print(x)` is an `Argument` of the `print` function (in line 6). Note that `x` is also a `variable` (made in line 2)\n",
    "* The `my_var` in `print(my_var)` is an `Argument` of the `print` function (in line 6). Note that `my_var` is also a `variable` (made in line 3)\n",
    "\n",
    "----------------------------\n"
   ]
  },
  {
   "cell_type": "markdown",
   "metadata": {},
   "source": [
    "<br><br><div class=\"startTASK\"></div>\n",
    "\n",
    "Consider the following R code:\n"
   ]
  },
  {
   "cell_type": "code",
   "execution_count": 2,
   "metadata": {},
   "outputs": [
    {
     "data": {
      "text/html": [
       "<ol class=list-inline>\n",
       "\t<li>'my_var'</li>\n",
       "\t<li>'ThisIsMyVariable'</li>\n",
       "\t<li>'x'</li>\n",
       "</ol>\n"
      ],
      "text/latex": [
       "\\begin{enumerate*}\n",
       "\\item 'my\\_var'\n",
       "\\item 'ThisIsMyVariable'\n",
       "\\item 'x'\n",
       "\\end{enumerate*}\n"
      ],
      "text/markdown": [
       "1. 'my_var'\n",
       "2. 'ThisIsMyVariable'\n",
       "3. 'x'\n",
       "\n",
       "\n"
      ],
      "text/plain": [
       "[1] \"my_var\"           \"ThisIsMyVariable\" \"x\"               "
      ]
     },
     "metadata": {},
     "output_type": "display_data"
    }
   ],
   "source": [
    "# Lets do a variable\n",
    "ThisIsMyVariable <- 39878\n",
    "\n",
    "# Lets query all the variables currently loaded in Memory\n",
    "ls()"
   ]
  },
  {
   "cell_type": "markdown",
   "metadata": {},
   "source": [
    "<div class=\"endTASK\"></div><br><br>"
   ]
  },
  {
   "cell_type": "markdown",
   "metadata": {},
   "source": [
    "<div class=\"Q\"><br><br>\n",
    "\n",
    "What is: <br><br>\n",
    "\n",
    "<span class=\"codeX\">ThisIsMyVariable</span>\n",
    "\n",
    "\n",
    "<br><br><div class=\"qhelp\"></div></div>\n"
   ]
  },
  {
   "cell_type": "markdown",
   "metadata": {},
   "source": [
    "<div class=\"Q\"><br><br>\n",
    "\n",
    "What is: <br><br>\n",
    "\n",
    "<span class=\"codeX\">ls</span>\n",
    "\n",
    "\n",
    "<br><br><div class=\"qhelp\"></div></div>\n"
   ]
  },
  {
   "cell_type": "markdown",
   "metadata": {},
   "source": [
    "<div class=\"Q\"><br><br>\n",
    "\n",
    "What is: <br><br>\n",
    "\n",
    "<span class=\"codeX\">39878</span>\n",
    "\n",
    "\n",
    "<br><br><div class=\"qhelp\"></div></div>\n"
   ]
  },
  {
   "cell_type": "markdown",
   "metadata": {},
   "source": [
    "# RStudio\n",
    "\n",
    "<img src=\"../media/RStudio_logo.png\" width=\"150px\">\n",
    "\n",
    "Most people do \"coding\" (in any language) using an **\"Integrated Development Environment\" (IDE)**, which are programs designed to make \"coding\" easier. **IDE's** make it easier to run your code, get help, manage multiple projects and files, color-code your code as you write it, etc. **IDE's** are like a swiss-army-knife for coding. Many **IDE's** are free. Take a look at [this list of IDE's](https://en.wikipedia.org/wiki/Comparison_of_integrated_development_environments)\n",
    "\n",
    "`RStudio` is a free **IDE** especially designed to work with R. `RStudio` was also pre-installed in all Lab computers; however, if you want to follow along in your own laptop, you can install `RStudio` directly from https://rstudio.com/\n",
    "\n",
    "* To open `RStudio`, search in the taskbar for \"RStudio\", the program looks as follows:\n",
    "\n",
    "<br>\n",
    "<img src=\"../media/RStudio.png\" width=\"800px\">\n",
    "<br>\n",
    "\n",
    "Note that when you open `RStudio`, behind the scenes a bunch of code was loaded into **memory** from \"the R Directory\" (i.e. **hard-drive**). \n",
    "\n",
    "The `RStudio` screen is divided in multiple panels. We will review the most important panels next. "
   ]
  },
  {
   "cell_type": "markdown",
   "metadata": {},
   "source": [
    "\n",
    "## RStudio's \"Console\"\n",
    "\n",
    "<img src=\"../media/RStudio_console.png\" width=\"600px\">\n",
    "<br>\n",
    "\n",
    "The <span class=\"console\"></span> is a live instance of R. It is the most direct way to connect your computer's **memory** (i.e. where R is loaded) to your **screen**. This is the place where R will display error messages, warnings, and some code output. The <span class=\"console\"></span> is also where you can quickly interact with R by writing code and then clicking [Enter] When you click [Enter], anything you wrote on the <span class=\"console\"></span> will be loaded to memory and executed immediately. Let's try it:\n"
   ]
  },
  {
   "cell_type": "markdown",
   "metadata": {},
   "source": [
    "<br><br><div class=\"startTASK\"></div>\n",
    "\n",
    "Type the following code in the <span class=\"console\"></span>, then press [Enter]"
   ]
  },
  {
   "cell_type": "code",
   "execution_count": 3,
   "metadata": {},
   "outputs": [
    {
     "name": "stdout",
     "output_type": "stream",
     "text": [
      "[1] \"hello world!\"\n"
     ]
    }
   ],
   "source": [
    "print('hello world!')"
   ]
  },
  {
   "cell_type": "markdown",
   "metadata": {},
   "source": [
    "<div class=\"endTASK\"></div><br><br>"
   ]
  },
  {
   "cell_type": "markdown",
   "metadata": {},
   "source": [
    "<div class=\"Q\"><br><br>\n",
    "\n",
    "After you typed:<br><br>\n",
    "    \n",
    "<span class=\"codeX\">print('hello world!')</span><br>\n",
    "    \n",
    "What got displayed on the screen?\n",
    "\n",
    "<br><br><div class=\"qhelp\"></div></div>\n"
   ]
  },
  {
   "cell_type": "markdown",
   "metadata": {},
   "source": [
    "You can also use R's console as a simple calculator."
   ]
  },
  {
   "cell_type": "markdown",
   "metadata": {},
   "source": [
    "<br><br><div class=\"startTASK\"></div>\n",
    "\n",
    "Type the following code in the <span class=\"console\"></span>, then press [Enter] "
   ]
  },
  {
   "cell_type": "code",
   "execution_count": 4,
   "metadata": {},
   "outputs": [
    {
     "data": {
      "text/html": [
       "23"
      ],
      "text/latex": [
       "23"
      ],
      "text/markdown": [
       "23"
      ],
      "text/plain": [
       "[1] 23"
      ]
     },
     "metadata": {},
     "output_type": "display_data"
    }
   ],
   "source": [
    "14 + 9"
   ]
  },
  {
   "cell_type": "markdown",
   "metadata": {},
   "source": [
    "<div class=\"endTASK\"></div><br><br>"
   ]
  },
  {
   "cell_type": "markdown",
   "metadata": {},
   "source": [
    "Again, it is important to note that when you clicked [Enter], anything you wrote on the <span class=\"console\"></span> was loaded to memory and executed immediately."
   ]
  },
  {
   "cell_type": "markdown",
   "metadata": {},
   "source": [
    "## RStudio's Help panel\n",
    "\n",
    "As we said above, most of the \"magic\" done in R is done through **functions** (e.g. calculate means, standard deviations, make graphs, print maps, etc.). Each **function** has specific instructions on how to use it, what arguments it needs, what kind of inputs it requires, etc. Luckily, the instruction manual of every function in R is accessible via the **Help panel**. To access it simple chick on the **Help tab**; and to use it simply type the name of the function in the search bar within the Help panel.\n",
    "\n",
    "<img src=\"./help_panel.png\" width=\"600px\">\n",
    "\n",
    "\n",
    "Another way to display the function's instruction manual in the **Help panel** is by typing in the <span class=\"console\"></span> the function name preceded by a `?`. For example: "
   ]
  },
  {
   "cell_type": "code",
   "execution_count": 5,
   "metadata": {},
   "outputs": [],
   "source": [
    "?print"
   ]
  },
  {
   "cell_type": "markdown",
   "metadata": {},
   "source": [
    "...or you can use the `help()` function. For example:"
   ]
  },
  {
   "cell_type": "code",
   "execution_count": 6,
   "metadata": {},
   "outputs": [],
   "source": [
    "help(print)"
   ]
  },
  {
   "cell_type": "markdown",
   "metadata": {},
   "source": [
    "The instruction manual of a function is broken down into sections:\n",
    "\n",
    "* Description: An extended description of what the function does.\n",
    "* Usage: The arguments of the function and their default values.\n",
    "* Arguments: An explanation of the data each argument is expecting.\n",
    "* Details: Any important details to be aware of.\n",
    "* Value: The data the function returns.\n",
    "* See Also: Any related functions you might find useful.\n",
    "* Examples: Some examples for how to use the function.\n",
    "\n",
    "Different functions might have different sections, but these are the main ones you should be aware of.\n",
    "\n",
    "<span class=\"note\"></span> From within the function help page, you can highlight code in the Examples and hit `Ctrl`+`Return` to run it in RStudio console. This gives you a quick way to get a feel for how a function works."
   ]
  },
  {
   "cell_type": "markdown",
   "metadata": {},
   "source": [
    "### Other ways to get help\n",
    "\n",
    "* Google your question followed by `R`\n",
    "    * Note that Google Results from [Stack overflow](https://stackoverflow.com/) are usually high quality answers\n",
    "* Search using https://rseek.org/\n",
    "* Search directly in [Stack Overflow within the [r] tag](https://stackoverflow.com/questions/tagged/r)\n",
    "\n",
    "Other ports of call:\n",
    "* [Quick R](https://www.statmethods.net/)\n",
    "* [RStudio cheat sheets](https://rstudio.com/resources/cheatsheets/)\n",
    "* [Cookbook for R](http://www.cookbook-r.com/)"
   ]
  },
  {
   "cell_type": "markdown",
   "metadata": {},
   "source": [
    "## RStudio's \"Editor\"\n",
    "\n",
    "To be able to see the <span class=\"editor\"></span>, you need to have an \"R script\" file open. If you don't have any file open, you have to create a new one by clicking on the \"green plus sign\" and selecting \"R script\" (see below):\n",
    "\n",
    "<img src=\"./RStudio_create_new_file.png\" width=\"500px\">\n",
    "\n",
    "<br>\n",
    "<br>\n",
    "\n",
    "The <span class=\"editor\"></span> is the space where you write your code so that you can execute it later. The <span class=\"editor\"></span> is shown below inside the green box.\n",
    "\n",
    "<img src=\"./RStudio_editor.png\" width=\"800px\">\n",
    "\n",
    "The <span class=\"editor\"></span> is just a text editor like Notepad (in Windows) or TextEdit (in Mac). However, note that RStudio's <span class=\"editor\"></span> color-codes your text so that it can be read with ease. It will also perform some basic quality control and will tell you if you made a mistake (more on this later).\n",
    "\n"
   ]
  },
  {
   "cell_type": "markdown",
   "metadata": {},
   "source": [
    "<br><br><div class=\"startTASK\"></div>\n",
    "\n",
    "If you haven't open a new R script file, follow instructions above to create one, and then type the code below in the  <span class=\"editor\"></span>: "
   ]
  },
  {
   "cell_type": "code",
   "execution_count": 7,
   "metadata": {},
   "outputs": [
    {
     "name": "stdout",
     "output_type": "stream",
     "text": [
      "[1] \"Hello world!\"\n"
     ]
    }
   ],
   "source": [
    "print('Hello world!')"
   ]
  },
  {
   "cell_type": "markdown",
   "metadata": {},
   "source": [
    "<div class=\"endTASK\"></div><br><br>"
   ]
  },
  {
   "cell_type": "markdown",
   "metadata": {},
   "source": [
    "Great! Now it is time to <span class=\"run\"></span> your script!"
   ]
  },
  {
   "cell_type": "markdown",
   "metadata": {},
   "source": [
    "## Running your code\n",
    "\n",
    "There are many ways to run the code you wrote in the editor. They require you to click on one the \"run\" buttons or use the keyboard shortcuts (see below).\n",
    "\n",
    "<img src=\"./run_button.png\" width=\"800px\">\n",
    "\n",
    "\n",
    "### Executing a Single Line\n",
    "To execute the line of code where the cursor currently resides, you need to press the `Ctrl`+`Enter` keyboard shortcut (or use the \"Run single line\" button in the \"Run toolbar\").\n",
    "\n",
    "After executing the line of code, RStudio automatically advances the cursor to the next line. This enables you to single-step through a sequence of lines.\n",
    "\n",
    "### Executing Multiple Lines\n",
    "There are three ways to execute multiple lines from within the editor:\n",
    "\n",
    "* Select the lines and press the `Ctrl`+`Enter` keyboard shortcut (or use the <span class=\"run\"></span> button in the \"Run toolbar\"); or\n",
    "* After executing a selection of code, use the Re-Run Previous Region command (or its associated toolbar button) to run the same selection again. Note that changes to the selection including additional, removal, and modification of lines will be reflected in this subsequent run of the selection.\n",
    "* To run the entire document, press the `Ctrl`+`Shift`+`Enter` keyboard shortcut (or use the <span class=\"source\"></span> toolbar button).\n",
    "\n",
    "<span class=\"note\"></span> When you click the <span class=\"run\"></span> or <span class=\"source\"></span> buttons, RStudio automatically loads the code from the **Screen** (i.e. the Editor) into **memory** for execution.\n",
    "\n",
    "Let's do a test."
   ]
  },
  {
   "cell_type": "markdown",
   "metadata": {},
   "source": [
    "<br><br><div class=\"startTASK\"></div>\n",
    "\n",
    "Run your script (i.e. the one you made in the task above), by clicking in the button <span class=\"source\"></span>. If your script ran properly, you should be able to `\"Hello world!\"` in the <span class=\"console\"></span>.\n",
    "<br><br>\n",
    "<div class=\"endTASK\"></div>"
   ]
  },
  {
   "cell_type": "markdown",
   "metadata": {},
   "source": [
    "<br><br><div class=\"startTASK\"></div>\n",
    "\n",
    "Try running your code with all the buttons and keyboard shortcuts explained above.\n",
    "\n",
    "<div class=\"endTASK\"></div><br><br>"
   ]
  },
  {
   "cell_type": "markdown",
   "metadata": {},
   "source": [
    "<span class=\"important\"></span> As you see, every time you run the code in the <span class=\"editor\"></span>, the output is displayed in the <span class=\"console\"></span>"
   ]
  },
  {
   "cell_type": "markdown",
   "metadata": {},
   "source": [
    "<div class=\"Q\"><br><br>\n",
    "\n",
    "After you write some code in the <b>Editor</b>, what happens when you click the <b>\"source\"</b> button?\n",
    "\n",
    "<br><br><div class=\"qhelp\"></div></div>\n"
   ]
  },
  {
   "cell_type": "markdown",
   "metadata": {},
   "source": [
    "## RStudio's \"Working Directory\"\n",
    "\n",
    "The ***working directory*** is the location in your computer where RStudio is reading and writing files. If you click on the **Files** tab, you likely will be viewing the ***working directory*** and its contents. Also, within the **Files** tab, you can click on the `More` button to \"Set the working directory\" or \"Go to the Working Directory\". \n",
    "\n",
    "<img src=\"./working_directory.png\" width=\"800px\">\n",
    "\n",
    "The location displayed in the **Files** tab is not always the working directory. Therefore, the best way to get the working directory, is to use the `getwd()` function, see task below."
   ]
  },
  {
   "cell_type": "markdown",
   "metadata": {},
   "source": [
    "<br><br><div class=\"startTASK\"></div>\n",
    "\n",
    "Type in the <span class=\"console\"></span> the following line and click [Enter]."
   ]
  },
  {
   "cell_type": "code",
   "execution_count": 8,
   "metadata": {},
   "outputs": [
    {
     "data": {
      "text/html": [
       "'C:/Users/Diego/Documents/6.Biologist\\'s Toolkit/biol3782/week1'"
      ],
      "text/latex": [
       "'C:/Users/Diego/Documents/6.Biologist\\textbackslash{}'s Toolkit/biol3782/week1'"
      ],
      "text/markdown": [
       "'C:/Users/Diego/Documents/6.Biologist\\'s Toolkit/biol3782/week1'"
      ],
      "text/plain": [
       "[1] \"C:/Users/Diego/Documents/6.Biologist's Toolkit/biol3782/week1\""
      ]
     },
     "metadata": {},
     "output_type": "display_data"
    }
   ],
   "source": [
    "getwd()"
   ]
  },
  {
   "cell_type": "markdown",
   "metadata": {},
   "source": [
    "* Did you see get the working directory?\n",
    "\n",
    "\n",
    "* Did it match the location shown in the ***Files*** tab.\n",
    "\n",
    "<div class=\"endTASK\"></div><br><br>\n",
    "\n",
    "----------------------"
   ]
  },
  {
   "cell_type": "markdown",
   "metadata": {},
   "source": [
    "<span class=\"important\"></span> When you are working on a lab that requires ancillary data files or ancillary R code files, you need to make sure these files are in the ***working directory***. You can download them directly to the ***working directory***, or you can change the ***working directory*** to be folder where you downloaded your files.\n",
    "\n",
    "\n",
    "### Changing the \"Working directory\"\n",
    "To change the ***working directory***, you can:\n",
    "\n",
    "* Use the `setwd()` function.\n",
    "\n",
    "...or you can: \n",
    "\n",
    "\n",
    "* (1) go to the **Files** tab, (2) navigate to the folder that you want to make your new ***working directory***, (3) click on the \"More\" button, and (4) select ***Set As Working Directory***\n",
    "\n",
    "<img src=\"./working_directory.png\" width=\"500px\">"
   ]
  },
  {
   "cell_type": "markdown",
   "metadata": {},
   "source": [
    "<div class=\"Q\"><br><br>\n",
    "\n",
    "You are starting to work on a lab that requires 2 ancillary data files and 3 ancillary R code files. You download all these files from BrightSpace into you Laptop. Which of the following describes best what happened to the data/code?\n",
    "\n",
    "<br><br><div class=\"qhelp\"></div></div>\n"
   ]
  },
  {
   "cell_type": "markdown",
   "metadata": {},
   "source": [
    "<div class=\"Q\"><br><br>\n",
    "\n",
    "You are starting to work on a lab that requires 2 ancillary data files and 3 ancillary R script files. <b>Where</b> in your laptop do you have to put these files?\n",
    "\n",
    "<br><br><div class=\"qhelp\"></div></div>\n"
   ]
  },
  {
   "cell_type": "markdown",
   "metadata": {},
   "source": [
    "## Saving your code\n",
    "\n",
    "To save your file to your hard-drive, simply click the **\"Save\"** button on the Editor (it looks like a floppy disk). You can name your file anything you want, but the extension will be automatically set as `.R`, which is the default extension for R files.\n",
    "\n",
    "<span class=\"note\"></span> After you write some code in the ***Editor***, clicking the \"save\" button technically transfers code from the **Screen** (i.e. the Editor) into a file in your **hard-drive**.\n"
   ]
  },
  {
   "cell_type": "markdown",
   "metadata": {},
   "source": [
    "<br><br><div class=\"startTASK\"></div>\n",
    "\n",
    "Save the R script file you created earlier. Name it <span class=\"file\">hello_world.R</span>\n",
    "\n",
    "<div class=\"endTASK\"></div><br><br>"
   ]
  },
  {
   "cell_type": "markdown",
   "metadata": {},
   "source": [
    "<div class=\"Q\"><br><br>\n",
    "\n",
    "After you write some code in the <b>Editor</b>, what happens when you click the <b>\"save\"</b> button?\n",
    "\n",
    "<br><br><div class=\"qhelp\"></div></div>\n"
   ]
  },
  {
   "cell_type": "markdown",
   "metadata": {},
   "source": [
    "## Real-life Example #1: Downloading real-time data from an oceanographic buoy in Oregon\n",
    "\n",
    "To explain the **Plots** and **Environment** panels in RStudio, it is required that we load some data and make a plot. This is a nice opportunity to do some real-life data mining and visualization. Let's download data from a buoy in Oregon. USA.\n",
    "\n",
    "There is an autonomous buoy in the Columbia River (Oregon, USA) that broadcasts real-time ocean data via the following server: http://columbia.loboviz.com/\n",
    "\n",
    "<table>\n",
    "  <tr>\n",
    "    <td><img src=\"./lobo.jpg\" width=\"200px\">LOBO Buoy</td>\n",
    "    <td><img src=\"./columbia_river.jpg\" width=\"300px\">Columbia River (Oregon, USA)</td>\n",
    "  </tr>\n",
    "</table>\n",
    "\n",
    "\n",
    "<br><br><br><br><div class=\"startTASK\"></div>\n",
    "\n",
    "The following code connects to the buoy's server, downloads data, and makes a simple plot. **Note that A LOT gets done with just 3 lines of code.** This is the magic of \"coding\"!\n",
    "\n",
    "In RStudio's <span class=\"editor\"></span> open a new file and save it as <span class=\"file\">buoy.R</span>. Copy-paste the code below to your new file and click <span class='source'></span>"
   ]
  },
  {
   "cell_type": "code",
   "execution_count": 9,
   "metadata": {},
   "outputs": [
    {
     "data": {
      "image/png": "[encoded data removed]",
      "text/plain": [
       "plot without title"
      ]
     },
     "metadata": {},
     "output_type": "display_data"
    }
   ],
   "source": [
    "# Define buoy's URL\n",
    "bouyURL <- \"https://raw.githubusercontent.com/Diego-Ibarra/biol3782/main/week1/data/buoy_data.csv\" # http://columbia.loboviz.com/ is down at the moment. Redirect to saved .csv file in course's repo\n",
    "\n",
    "# Read data directly from buoy\n",
    "data <- read.csv(bouyURL, sep = \",\")\n",
    "\n",
    "# Do quick plot\n",
    "plot.ts(data[3])"
   ]
  },
  {
   "cell_type": "markdown",
   "metadata": {},
   "source": [
    "<div class=\"endTASK\"></div><br><br><br>\n",
    "\n",
    "In this simple graph, the time x-axis is in not displayed as dates, but instead as \"record number\". Therefore, we do not know if this time-series spans a few weeks or a few decades. However, we can probably deduce that the time span by looking at the y-axis. If the time-series span a few decades, you should see high temperatures of around 25 &deg;C (maximum in the summer) and low temperatures around 5 or 10 &deg;C (minimum in the winter). We do not see that range in the y-axis. Therefore, I think the time-series spans only a few weeks in late summer or early fall, because the temperature starts high (approx. 22 &deg;C) and decrease a couple of degrees (~20 &deg;C) over the span of the series. While Oregon is not a cold as Halifax, the water surface in the Columbia River should decrease in winter to just 5 or 10 &deg;C, which we do not see in the plot. The high frequency variability (the up and down \"wiggles\" in temperature) is likely due to day-night temperature fluctuations in air temperature, or ebb-flood tide fluctuations. **All that from 3 lines of code!**"
   ]
  },
  {
   "cell_type": "markdown",
   "metadata": {},
   "source": [
    "<div class=\"Q\"><br><br>\n",
    "\n",
    "From the code above, in line 2...\n",
    "    \n",
    "What is: <br><br>\n",
    "\n",
    "<span class=\"codeX\">bouyURL</span>\n",
    "\n",
    "\n",
    "<br><br><div class=\"qhelp\"></div></div>\n"
   ]
  },
  {
   "cell_type": "markdown",
   "metadata": {},
   "source": [
    "<div class=\"Q\"><br><br>\n",
    "\n",
    "From the code above, in line 5...\n",
    "    \n",
    "What is: <br><br>\n",
    "\n",
    "<span class=\"codeX\">data</span>\n",
    "\n",
    "\n",
    "<br><br><div class=\"qhelp\"></div></div>\n"
   ]
  },
  {
   "cell_type": "markdown",
   "metadata": {},
   "source": [
    "<div class=\"Q\"><br><br>\n",
    "\n",
    "From the code above, in line 5...\n",
    "    \n",
    "What is: <br><br>\n",
    "\n",
    "<span class=\"codeX\">read.csv</span>\n",
    "\n",
    "\n",
    "<br><br><div class=\"qhelp\"></div></div>\n"
   ]
  },
  {
   "cell_type": "markdown",
   "metadata": {},
   "source": [
    "<div class=\"Q\"><br><br>\n",
    "\n",
    "From the code above, in line 5...\n",
    "    \n",
    "What are: <br><br>\n",
    "\n",
    "<span class=\"codeX\">bouyURL, sep = \"\\t\", skip = 2</span>\n",
    "\n",
    "\n",
    "<br><br><div class=\"qhelp\"></div></div>\n"
   ]
  },
  {
   "cell_type": "markdown",
   "metadata": {},
   "source": [
    "<div class=\"Q\"><br><br>\n",
    "\n",
    "From the code above, in line 7...\n",
    "    \n",
    "What is: <br><br>\n",
    "\n",
    "<span class=\"codeX\"># Do quick plot</span>\n",
    "\n",
    "\n",
    "<br><br><div class=\"qhelp\"></div></div>\n"
   ]
  },
  {
   "cell_type": "markdown",
   "metadata": {},
   "source": [
    "<div class=\"Q\"><br><br>\n",
    "\n",
    "From the code above, in line 8...\n",
    "    \n",
    "What is: <br><br>\n",
    "\n",
    "<span class=\"codeX\">plot.ts</span>\n",
    "\n",
    "\n",
    "<br><br><div class=\"qhelp\"></div></div>\n"
   ]
  },
  {
   "cell_type": "markdown",
   "metadata": {},
   "source": [
    "<div class=\"Q\"><br><br>\n",
    "\n",
    "From the code above, in line 2...\n",
    "    \n",
    "What is: <br><br>\n",
    "\n",
    "<span class=\"codeX\">\"http://columbia.loboviz.com/cgi-data/nph-data.cgi?x=date&y=temperature&min_date=20180820&max_date=20180907&node=32&data_format=text\"\n",
    "</span>\n",
    "\n",
    "\n",
    "<br><br><div class=\"qhelp\"></div></div>\n"
   ]
  },
  {
   "cell_type": "markdown",
   "metadata": {},
   "source": [
    "<div class=\"Q\"><br><br>\n",
    "\n",
    "From the code above, in line 1...\n",
    "    \n",
    "What is: <br><br>\n",
    "\n",
    "<span class=\"codeX\"># Define buoy's URL</span>\n",
    "\n",
    "\n",
    "<br><br><div class=\"qhelp\"></div></div>\n"
   ]
  },
  {
   "cell_type": "markdown",
   "metadata": {},
   "source": [
    "## RStudio's \"Plots\" panel\n",
    "\n",
    "After you ran <span class=\"file\">buoy.R</span>, you will see the plot above in your RStudio's \"Plots\" panel (see below).\n",
    "\n",
    "<img src=\"./plots_panel.png\" width=\"500px\">"
   ]
  },
  {
   "cell_type": "markdown",
   "metadata": {},
   "source": [
    "## RStudio's \"Environment\" panel\n",
    "\n",
    "After you ran <span class=\"file\">buoy.R</span>, you will see the variables you created (i.e. `bouyURL` and `data`) in the \"Environment panel\" (see below).\n",
    "\n",
    "<img src=\"./environment_panel.png\" width=\"500px\">"
   ]
  },
  {
   "cell_type": "markdown",
   "metadata": {},
   "source": [
    "After you ran <span class=\"file\">buoy.R</span> and clicked <span class='source'></span>, R read the code you wrote on the editor, created the `bouyURL` and `data` variables in **memory**, and sent their name and value to the screen (in the Environment panel). Again, all that with the click of a button!\n"
   ]
  },
  {
   "cell_type": "markdown",
   "metadata": {},
   "source": [
    "## R Packages (or Libraries)\n",
    "\n",
    "As said above, `packages` (also called `libraries`) are collections of functions, made by \"community members\", that you can download and use for free. Note that there are two steps required before you can use a package:\n",
    "\n",
    "<img src=\"./install_import.png\" width=\"500px\">\n",
    "\n",
    "1. First, you have to **\"Install\"** the package. In this step, the package's code is downloaded from \"the cloud\" and saved into your computer's hard-drive. This step needs to be done once for every new installation of R; if you buy a new computer and install a R for the first time, you will need to install the packages you want to use.\n",
    "    * To **\"Install\"** a package, use the function: `install()`\n",
    "    * For example: `install(ggplot2)`\n",
    "    * You can also install new packages using the **install** button in the **Packages panel** (see below)\n",
    "    <br><br>\n",
    "    \n",
    "2. Then, you have to **load** the package. In this step, the package's code is loaded from your hard-drive into your computer's memory. This step needs to be done once every time R is \"turned on\".\n",
    "    * To **\"load\"** a package, use the function: `library()`\n",
    "    * For example: `library(ggplot2)`\n",
    "    \n",
    "To see a list of all available R packages, see: https://cran.r-project.org/web/packages/available_packages_by_name.html\n",
    "\n",
    "### RStudio's Packages panel\n",
    "\n",
    "To see RStudio's **Packages panel**, click on the *Packages* tab. In RStudio's **Packages panel**, you can see a list of **installed packages** (see image below). Note that the packages that are currently **loaded** into memory are shown with a \"tick\" besides their package name.\n",
    "\n",
    "<img src=\"./packages_panel.png\" width=\"500px\">\n",
    "\n"
   ]
  },
  {
   "cell_type": "markdown",
   "metadata": {},
   "source": [
    "# Real-life Example #2: Downloading real-time data from a Glider in Nova Scotia\n",
    "\n",
    "<table>\n",
    "  <tr>\n",
    "    <td><img src=\"slocum_glider.jpg\" width=\"400px\">Slocum Glider</td>\n",
    "    <td><img src=\"./otn200.png\" width=\"300px\">Current deployment</td>\n",
    "  </tr>\n",
    "</table>\n",
    "\n",
    "\n",
    "\n",
    "Autonomous Underwater Vehicles (AUV's) or \"gliders\", are robots programed by scientist to autonomously navigate a pre-programmed transect while collecting an assortment of data, from water temperature, to phytoplankton fluorescence, to whale calls. Dalhousie University and the [Ocean Tracking Network](https://oceantrackingnetwork.org/) have a [fleet of gliders](http://ceotr.ocean.dal.ca/gliders/) that patrol Nova Scotia waters.\n",
    "\n",
    "<br>\n",
    "\n",
    "<br><br><div class=\"startTASK\"></div>\n",
    "\n",
    "The code below pulls data from a glider deployed off the coast of Nova Scotia (http://ceotr.ocean.dal.ca/gliders/). The code plots a rough depth-vs-time scatter plot.\n",
    "\n",
    "If you do not have already installed `ggplot2` and `viridis`, copy paste the following code to RStudio's <span class=\"console\"></span> and click [Enter]:"
   ]
  },
  {
   "cell_type": "code",
   "execution_count": 10,
   "metadata": {},
   "outputs": [
    {
     "name": "stdout",
     "output_type": "stream",
     "text": [
      "package 'ggplot2' successfully unpacked and MD5 sums checked\n",
      "\n",
      "The downloaded binary packages are in\n",
      "\tC:\\Users\\Diego\\AppData\\Local\\Temp\\RtmpOq3avG\\downloaded_packages\n",
      "package 'viridis' successfully unpacked and MD5 sums checked\n",
      "\n",
      "The downloaded binary packages are in\n",
      "\tC:\\Users\\Diego\\AppData\\Local\\Temp\\RtmpOq3avG\\downloaded_packages\n"
     ]
    }
   ],
   "source": [
    "install.packages(\"ggplot2\")\n",
    "install.packages(\"viridis\")"
   ]
  },
  {
   "cell_type": "markdown",
   "metadata": {},
   "source": [
    "Then...\n",
    "\n",
    "In ***RStudio***, open a new file, name it <span class=\"file\">glider.R</span>, copy-paste the code below in the <span class=\"editor\"></span>, and click <span class=\"source\"></span> ...note that it takes a bit of time to finish running."
   ]
  },
  {
   "cell_type": "code",
   "execution_count": 11,
   "metadata": {},
   "outputs": [
    {
     "name": "stderr",
     "output_type": "stream",
     "text": [
      "Warning message:\n",
      "\"package 'ggplot2' was built under R version 3.6.3\"Warning message:\n",
      "\"package 'viridis' was built under R version 3.6.3\"Loading required package: viridisLite\n"
     ]
    },
    {
     "data": {
      "image/png": "[encoded data removed]",
      "text/plain": [
       "plot without title"
      ]
     },
     "metadata": {},
     "output_type": "display_data"
    }
   ],
   "source": [
    "# Import library\n",
    "library(ggplot2)\n",
    "library(viridis)\n",
    "\n",
    "# Define URL for OTN glider\n",
    "URL = 'http://gliders.oceantrack.org/data/live/bond_sci_water_temp_live.csv'\n",
    "\n",
    "# Read data directly from buoy\n",
    "data <- read.csv(URL, sep = \",\")\n",
    "\n",
    "# Set plots to be drawn with a resonable size\n",
    "options(repr.plot.width=8, repr.plot.height=4)\n",
    "\n",
    "# Scatter plot\n",
    "# Assign plot to a variable \"sp\"\n",
    "sp <- ggplot(data, aes(x=unixtime, y=depth, color=sci_water_temp))\n",
    "\n",
    "# Draw the plot\n",
    "sp + geom_point() + \n",
    "     scale_y_reverse() +\n",
    "     scale_color_viridis(limits = c(5,20), option=\"plasma\")"
   ]
  },
  {
   "cell_type": "markdown",
   "metadata": {},
   "source": [
    "<div class=\"endTASK\"></div><br><br>"
   ]
  },
  {
   "cell_type": "markdown",
   "metadata": {},
   "source": [
    "<div class=\"Q\"><br><br>\n",
    "\n",
    "From the code above, in line 1...\n",
    "    \n",
    "What is: <br><br>\n",
    "\n",
    "<span class=\"codeX\"># Import library</span>\n",
    "\n",
    "\n",
    "<br><br><div class=\"qhelp\"></div></div>\n"
   ]
  },
  {
   "cell_type": "markdown",
   "metadata": {},
   "source": [
    "<div class=\"Q\"><br><br>\n",
    "\n",
    "From the code above, in line 3...\n",
    "    \n",
    "What is: <br><br>\n",
    "\n",
    "<span class=\"codeX\">viridis</span>\n",
    "\n",
    "\n",
    "<br><br><div class=\"qhelp\"></div></div>\n"
   ]
  },
  {
   "cell_type": "markdown",
   "metadata": {},
   "source": [
    "<div class=\"Q\"><br><br>\n",
    "\n",
    "From the code above, in line 6...\n",
    "    \n",
    "What is: <br><br>\n",
    "\n",
    "<span class=\"codeX\">URL</span>\n",
    "\n",
    "\n",
    "<br><br><div class=\"qhelp\"></div></div>\n"
   ]
  },
  {
   "cell_type": "markdown",
   "metadata": {},
   "source": [
    "<div class=\"Q\"><br><br>\n",
    "\n",
    "From the code above, in line 6...\n",
    "    \n",
    "What is: <br><br>\n",
    "\n",
    "<span class=\"codeX\">'http://gliders.oceantrack.org/data/live/bond_sci_water_temp_live.csv'</span>\n",
    "\n",
    "\n",
    "<br><br><div class=\"qhelp\"></div></div>\n"
   ]
  },
  {
   "cell_type": "markdown",
   "metadata": {},
   "source": [
    "<div class=\"Q\"><br><br>\n",
    "\n",
    "From the code above, in line 9...\n",
    "    \n",
    "What are: <br><br>\n",
    "\n",
    "<span class=\"codeX\">URL, sep = \",\"</span>\n",
    "\n",
    "\n",
    "<br><br><div class=\"qhelp\"></div></div>\n"
   ]
  },
  {
   "cell_type": "markdown",
   "metadata": {},
   "source": [
    "<div class=\"Q\"><br><br>\n",
    "\n",
    "From the code above, in line 9...\n",
    "    \n",
    "What is: <br><br>\n",
    "\n",
    "<span class=\"codeX\">data</span>\n",
    "\n",
    "\n",
    "<br><br><div class=\"qhelp\"></div></div>\n"
   ]
  },
  {
   "cell_type": "markdown",
   "metadata": {},
   "source": [
    "<div class=\"Q\"><br><br>\n",
    "\n",
    "From the code above, in line 9...\n",
    "    \n",
    "What is: <br><br>\n",
    "\n",
    "<span class=\"codeX\">read.csv</span>\n",
    "\n",
    "\n",
    "<br><br><div class=\"qhelp\"></div></div>\n"
   ]
  },
  {
   "cell_type": "markdown",
   "metadata": {},
   "source": [
    "<div class=\"Q\"><br><br>\n",
    "\n",
    "From the code above, in line 16...\n",
    "    \n",
    "What is: <br><br>\n",
    "\n",
    "<span class=\"codeX\">sp</span>\n",
    "\n",
    "\n",
    "<br><br><div class=\"qhelp\"></div></div>\n"
   ]
  },
  {
   "cell_type": "markdown",
   "metadata": {},
   "source": [
    "<div class=\"Q\"><br><br>\n",
    "\n",
    "From the code above, in line 18...\n",
    "    \n",
    "What is: <br><br>\n",
    "\n",
    "<span class=\"codeX\"># Draw the plot</span>\n",
    "\n",
    "\n",
    "<br><br><div class=\"qhelp\"></div></div>\n"
   ]
  },
  {
   "cell_type": "markdown",
   "metadata": {},
   "source": [
    "<div class=\"Q\"><br><br>\n",
    "\n",
    "From the code above, in line 20...\n",
    "    \n",
    "What is: <br><br>\n",
    "\n",
    "<span class=\"codeX\">scale_y_reverse</span>\n",
    "\n",
    "\n",
    "<br><br><div class=\"qhelp\"></div></div>\n"
   ]
  },
  {
   "cell_type": "markdown",
   "metadata": {},
   "source": [
    "<div class=\"Q\"><br><br>\n",
    "\n",
    "From the code above, in line 21...\n",
    "    \n",
    "What is: <br><br>\n",
    "\n",
    "<span class=\"codeX\">scale_color_viridis</span>\n",
    "\n",
    "\n",
    "<br><br><div class=\"qhelp\"></div></div>\n"
   ]
  },
  {
   "cell_type": "markdown",
   "metadata": {},
   "source": [
    "<div class=\"Q\"><br><br>\n",
    "\n",
    "From the code above, in line 21...\n",
    "    \n",
    "What are: <br><br>\n",
    "\n",
    "<span class=\"codeX\">limits = c(5,20), option=\"plasma\"</span>\n",
    "\n",
    "\n",
    "<br><br><div class=\"qhelp\"></div></div>\n"
   ]
  },
  {
   "cell_type": "markdown",
   "metadata": {},
   "source": [
    "<div class=\"Q\"><br><br>\n",
    "\n",
    "From the code above, in line 19...\n",
    "    \n",
    "What is: <br><br>\n",
    "\n",
    "<span class=\"codeX\">sp</span>\n",
    "\n",
    "\n",
    "<br><br><div class=\"qhelp\"></div></div>\n"
   ]
  },
  {
   "cell_type": "markdown",
   "metadata": {},
   "source": [
    "<div class=\"Q\"><br><br>\n",
    "\n",
    "From the code above, in line 2...\n",
    "    \n",
    "What is: <br><br>\n",
    "\n",
    "<span class=\"codeX\">ggplot2</span>\n",
    "\n",
    "\n",
    "<br><br><div class=\"qhelp\"></div></div>\n"
   ]
  },
  {
   "cell_type": "markdown",
   "metadata": {},
   "source": [
    "# Real-life Example #3: Downloading Satellite data from an ERDDAP server\n",
    "\n",
    "\n",
    "<img src=\"poes-750.jpg\" width=\"400px\">\n",
    "\n",
    "<br>\n",
    "\n",
    "In this real-life case study, we will use an ERDDAP data server to download Sea Surface Temperature data from the Nova Scotia Region.\n",
    "\n",
    "[ERDDAP](https://coastwatch.pfeg.noaa.gov/erddap/index.html) is a data server that simplifies the download of subsets of scientific datasets to make graphs and maps, and other analyses.\n",
    "\n",
    "Many universities and government agencies use ERDDAP. Here we will be using one of NOAA's ERDDAP: https://coastwatch.pfeg.noaa.gov/erddap/info/index.html?page=1&itemsPerPage=2000\n",
    "\n",
    "\n",
    "----------\n",
    "\n",
    "First, lets get ourselves some Sea Surface Temperature (SST) from the Nova Scotia region. For this we will use an ERDDAP product consisting on averages of several satellites, including AVHRR, AATSR, SEVIRI, AMSRE, TMI and others.\n",
    "\n",
    "<br>\n",
    "\n",
    "<br><br><div class=\"startTASK\"></div>\n",
    "\n",
    "In RStudio's <span class='editor'></span> open a new file and save it as <span class='file'>satellite.R</span>. Copy-paste the code below and click <span class='source'></span>  ...note that it takes a bit of time to finish running."
   ]
  },
  {
   "cell_type": "code",
   "execution_count": 12,
   "metadata": {},
   "outputs": [
    {
     "data": {
      "image/png": "[encoded data removed]",
      "text/plain": [
       "plot without title"
      ]
     },
     "metadata": {},
     "output_type": "display_data"
    }
   ],
   "source": [
    "# Define ERDDAP's URL\n",
    "URL <- \"https://coastwatch.pfeg.noaa.gov/erddap/griddap/jplUKMO_OSTIAv20.csv?analysed_sst%5B(2020-12-22T12:00:00Z):1:(2020-12-22T12:00:00Z)%5D%5B(41.025):1:(52.025)%5D%5B(-67.975):1:(-54.675)%5D\"\n",
    "\n",
    "# Read data from ERDDAP\n",
    "data <- read.csv(URL, sep = \",\", skip = 1)\n",
    "\n",
    "# -- Rough heatmap ----\n",
    "# Assign plot to a variable \"hm\"\n",
    "hm <- ggplot(data, aes(degrees_east, degrees_north, fill= degree_C)) + \n",
    "  geom_tile()\n",
    "\n",
    "# Draw the plot\n",
    "hm + scale_fill_viridis(discrete=FALSE)"
   ]
  },
  {
   "cell_type": "markdown",
   "metadata": {},
   "source": [
    "<div class=\"endTASK\"></div><br><br>"
   ]
  },
  {
   "cell_type": "markdown",
   "metadata": {},
   "source": [
    "<div class=\"Q\"><br><br>\n",
    "\n",
    "From the code above, in line 1...\n",
    "    \n",
    "What is: <br><br>\n",
    "\n",
    "<span class=\"codeX\"># Define ERDDAP's URL</span>\n",
    "\n",
    "\n",
    "<br><br><div class=\"qhelp\"></div></div>\n"
   ]
  },
  {
   "cell_type": "markdown",
   "metadata": {},
   "source": [
    "<div class=\"Q\"><br><br>\n",
    "\n",
    "From the code above, in line 2...\n",
    "    \n",
    "What is: <br><br>\n",
    "\n",
    "<span class=\"codeX\">URL</span>\n",
    "\n",
    "\n",
    "<br><br><div class=\"qhelp\"></div></div>\n"
   ]
  },
  {
   "cell_type": "markdown",
   "metadata": {},
   "source": [
    "<div class=\"Q\"><br><br>\n",
    "\n",
    "From the code above, in line 2...\n",
    "    \n",
    "What is: <br><br>\n",
    "\n",
    "<span class=\"codeX\">\"https://coastwatch.pfeg.noaa.gov/erddap/griddap/jplUKMO_OSTIAv20.csv?analysed_sst%5B(2020-12-22T12:00:00Z):1:(2020-12-22T12:00:00Z)%5D%5B(41.025):1:(52.025)%5D%5B(-67.975):1:(-54.675)%5D\"\n",
    "</span>\n",
    "\n",
    "\n",
    "<br><br><div class=\"qhelp\"></div></div>\n"
   ]
  },
  {
   "cell_type": "markdown",
   "metadata": {},
   "source": [
    "<div class=\"Q\"><br><br>\n",
    "\n",
    "From the code above, in line 5...\n",
    "    \n",
    "What is: <br><br>\n",
    "\n",
    "<span class=\"codeX\">data</span>\n",
    "\n",
    "\n",
    "<br><br><div class=\"qhelp\"></div></div>\n"
   ]
  },
  {
   "cell_type": "markdown",
   "metadata": {},
   "source": [
    "<div class=\"Q\"><br><br>\n",
    "\n",
    "From the code above, in line 5...\n",
    "    \n",
    "What is: <br><br>\n",
    "\n",
    "<span class=\"codeX\">read.csv</span>\n",
    "\n",
    "\n",
    "<br><br><div class=\"qhelp\"></div></div>\n"
   ]
  },
  {
   "cell_type": "markdown",
   "metadata": {},
   "source": [
    "<div class=\"Q\"><br><br>\n",
    "\n",
    "From the code above, in line 5...\n",
    "    \n",
    "What are: <br><br>\n",
    "\n",
    "<span class=\"codeX\">URL, sep = \",\", skip = 1</span>\n",
    "\n",
    "\n",
    "<br><br><div class=\"qhelp\"></div></div>\n"
   ]
  },
  {
   "cell_type": "markdown",
   "metadata": {},
   "source": [
    "<div class=\"Q\"><br><br>\n",
    "\n",
    "From the code above, in line 9...\n",
    "    \n",
    "What is: <br><br>\n",
    "\n",
    "<span class=\"codeX\">hm</span>\n",
    "\n",
    "\n",
    "<br><br><div class=\"qhelp\"></div></div>\n"
   ]
  },
  {
   "cell_type": "markdown",
   "metadata": {},
   "source": [
    "<div class=\"Q\"><br><br>\n",
    "\n",
    "From the code above, in line 9...\n",
    "    \n",
    "What is: <br><br>\n",
    "\n",
    "<span class=\"codeX\">ggplot</span>\n",
    "\n",
    "\n",
    "<br><br><div class=\"qhelp\"></div></div>\n"
   ]
  },
  {
   "cell_type": "markdown",
   "metadata": {},
   "source": [
    "<div class=\"Q\"><br><br>\n",
    "\n",
    "From the code above, in line 9...\n",
    "    \n",
    "What is: <br><br>\n",
    "\n",
    "<span class=\"codeX\">data, aes(degrees_east, degrees_north, fill= degree_C)</span>\n",
    "\n",
    "\n",
    "<br><br><div class=\"qhelp\"></div></div>\n"
   ]
  },
  {
   "cell_type": "markdown",
   "metadata": {},
   "source": [
    "<div class=\"Q\"><br><br>\n",
    "\n",
    "From the code above, in line 13...\n",
    "    \n",
    "What is: <br><br>\n",
    "\n",
    "<span class=\"codeX\">discrete=FALSE</span>\n",
    "\n",
    "\n",
    "<br><br><div class=\"qhelp\"></div></div>\n"
   ]
  },
  {
   "cell_type": "markdown",
   "metadata": {},
   "source": [
    "<div class=\"Q\"><br><br>\n",
    "\n",
    "From the code above, in line 13...\n",
    "    \n",
    "What is: <br><br>\n",
    "\n",
    "<span class=\"codeX\">scale_fill_viridis</span>\n",
    "\n",
    "\n",
    "<br><br><div class=\"qhelp\"></div></div>\n"
   ]
  },
  {
   "cell_type": "markdown",
   "metadata": {},
   "source": [
    "<div class=\"Q\"><br><br>\n",
    "\n",
    "From the code above, in line 13...\n",
    "    \n",
    "What is: <br><br>\n",
    "\n",
    "<span class=\"codeX\">hm</span>\n",
    "\n",
    "\n",
    "<br><br><div class=\"qhelp\"></div></div>\n"
   ]
  },
  {
   "cell_type": "markdown",
   "metadata": {},
   "source": [
    "<br><br>\n",
    "<div class=\"startTASK\"></div>\n",
    "\n",
    "In RStudio's <span class='editor'></span> , copy-paste the code below at the bottom of <span class='file'>satellite.R</span>. Select the newly pasted code and and click <span class='run'></span>"
   ]
  },
  {
   "cell_type": "code",
   "execution_count": 13,
   "metadata": {
    "scrolled": false
   },
   "outputs": [
    {
     "data": {
      "image/png": "[encoded data removed]",
      "text/plain": [
       "plot without title"
      ]
     },
     "metadata": {},
     "output_type": "display_data"
    }
   ],
   "source": [
    "# -- Better heatmap (projected)----\n",
    "# Assign plot to a variable \"hm\"\n",
    "hm <- ggplot(data, aes(degrees_east, degrees_north, fill= degree_C)) + \n",
    "  geom_tile()\n",
    "\n",
    "# Draw the plot\n",
    "hm + scale_fill_viridis(discrete=FALSE, option=\"plasma\") + # Add \"plasma\" colormap \n",
    "     borders(\"world\", fill=\"grey90\",colour=\"#8c8c8c\") +  # Add continents and coastlines\n",
    "     coord_fixed(xlim = c(-68, -55),ylim = c(41, 52)) # Add projection and set map limits\n"
   ]
  },
  {
   "cell_type": "markdown",
   "metadata": {},
   "source": [
    "<div class=\"endTASK\"></div><br><br>\n",
    "\n",
    "If everything went well, the image plot above should have appeared in your RStudio's \"Plot panel\". As you can see, it is a projected map with nicer land and coastlines than the plot made in the previous task. You should be able to see that in the Lawrence River and Gulf of St Lawrence there is cold water of around 3&deg;C. However, south from Nova Scotia there is water of about 20&deg;C; this is the [Gulf Stream](https://en.wikipedia.org/wiki/Gulf_Stream), which is a warm-water current formed in the Gulf of Mexico and that runs all the way into Ireland."
   ]
  },
  {
   "cell_type": "markdown",
   "metadata": {},
   "source": [
    "<div class=\"Q\"><br><br>\n",
    "\n",
    "From the code above, in line 8...\n",
    "    \n",
    "What is: <br><br>\n",
    "\n",
    "<span class=\"codeX\">borders</span>\n",
    "\n",
    "\n",
    "<br><br><div class=\"qhelp\"></div></div>\n"
   ]
  },
  {
   "cell_type": "markdown",
   "metadata": {},
   "source": [
    "<div class=\"Q\"><br><br>\n",
    "\n",
    "From the code above, in line 8...\n",
    "    \n",
    "What do you think the following do? <br><br>\n",
    "\n",
    "<span class=\"codeX\">borders(\"world\", fill=\"grey90\",colour=\"#8c8c8c\")</span>\n",
    "\n",
    "\n",
    "<br><br><div class=\"qhelp\"></div></div>\n"
   ]
  },
  {
   "cell_type": "markdown",
   "metadata": {},
   "source": [
    "<div class=\"Q\"><br><br>\n",
    "\n",
    "From the heatmap above...\n",
    "    \n",
    "There is a mass of warm water around -64&deg;E and 42&deg;N. What do you think is the source of such warm water? <br><br>\n",
    "\n",
    "\n",
    "<br><br><div class=\"qhelp\"></div></div>\n"
   ]
  },
  {
   "cell_type": "markdown",
   "metadata": {},
   "source": [
    "-------------------\n",
    "\n",
    "Some parts of this lab where borrowed from:\n",
    "\n",
    "* [Software Carpentry](https://software-carpentry.org/)\n",
    "* [Data Carpentry](https://datacarpentry.org/)\n",
    "* [Spatial Data Science with R](https://rspatial.org/)"
   ]
  },
  {
   "cell_type": "markdown",
   "metadata": {},
   "source": [
    "<div class=\"big_title\">This is the end of lab</div>\n",
    "\n",
    "*******************\n",
    "*******************\n",
    "\n",
    "Code below is for formatting of this lab. Do not alter!"
   ]
  },
  {
   "cell_type": "code",
   "execution_count": 18,
   "metadata": {},
   "outputs": [
    {
     "data": {
      "text/html": [
       "<style>\n",
       "\n",
       "body {\n",
       "  counter-reset: question_num task_num;                     /* Set a counter named 'section', and it`s initial value is 0. */\n",
       "}\n",
       "\n",
       "/* Question Box */\n",
       ".Q {\n",
       "    background-color:#ff9900;\n",
       "    color:black;\n",
       "    font-size:17px;\n",
       "    width:100%;\n",
       "    border:1px solid #666666;\n",
       "    padding:5px;\n",
       "}\n",
       "\n",
       ".Q::before {\n",
       "    counter-increment: question_num;\n",
       "    content: \"QUESTION \" counter(question_num) '\\A';\n",
       "    white-space: pre;\n",
       "}\n",
       "\n",
       "\n",
       "/* Question Box */\n",
       ".T {\n",
       "    background-color:#00F7FF;\n",
       "    color:black;\n",
       "    font-size:17px;\n",
       "    font-weight: bold;\n",
       "    width:10%;\n",
       "    padding:5px;\n",
       "}\n",
       "\n",
       "\n",
       ".T::before {\n",
       "    counter-increment: task_num;\n",
       "    content: \"Task \" counter(task_num) ': ';\n",
       "}\n",
       "\n",
       "\n",
       "/* TASK BOX */\n",
       ".startTASK {\n",
       "    background: linear-gradient(to bottom, #b3ffb3 0%, #ffffff 100%);\n",
       "    border-top-left-radius: 10px;\n",
       "    border-top-right-radius: 10px;\n",
       "    border:1px solid #009900;\n",
       "    border-bottom:1px solid #ffffff;\n",
       "    color:#006600;\n",
       "    font-size:17px;\n",
       "    width:100%;\n",
       "    font-weight: bold;\n",
       "    padding:5px;\n",
       "    padding-top:15px;\n",
       "}\n",
       ".startTASK::before {\n",
       "    counter-increment: task_num;\n",
       "    content: \"Task \" counter(task_num) ': ';\n",
       "}\n",
       "\n",
       ".endTASK {\n",
       "    background: linear-gradient(to bottom, #ffffff 0%, #b3ffb3 100%);\n",
       "    border-bottom-left-radius: 10px;\n",
       "    border-bottom-right-radius: 10px;\n",
       "    border:1px solid #009900;\n",
       "    border-top:1px solid #ffffff;\n",
       "    color:#006600;\n",
       "    font-size:13px;\n",
       "    width:100%;\n",
       "    font-weight: bold;\n",
       "    padding:5px;\n",
       "    padding-top:15px;\n",
       "}\n",
       ".endTASK::before {\n",
       "    content: \"End of Task\";\n",
       "}\n",
       "\n",
       "\n",
       "\n",
       "\n",
       "\n",
       "\n",
       "\n",
       "\n",
       "\n",
       "\n",
       "\n",
       "\n",
       "\n",
       "\n",
       ".qhelp {\n",
       "    color:#666666;\n",
       "    font-size:15px\n",
       "}\n",
       "\n",
       ".qhelp::after {\n",
       "    content: \"Answer this question in the corresponding Brightspace LAB quiz\"\n",
       "}\n",
       "\n",
       "\n",
       "\n",
       "/* code */\n",
       ".rendered_html pre, .rendered_html code {\n",
       "    font-family: \"SF Mono\",\"Segoe UI Mono\",\"Roboto Mono\",\"Ubuntu Mono\",Menlo,Courier,monospace;\n",
       "    padding: 1px 3px;\n",
       "    border: 1px solid #e6e6e6;\n",
       "    border-radius: 3px;\n",
       "    background: #e6e6e6;\n",
       "    font-size: 12px;\n",
       "    line-height: 1.4;\n",
       "    color: #0052CC;\n",
       "}\n",
       "\n",
       "\n",
       "/* Console */\n",
       ".console {\n",
       "    background-color:#d2d2d2;\n",
       "    color:#FF2525;\n",
       "    font-size:12px;\n",
       "    line-height: 1.4;\n",
       "    border:1px solid #bfbfbf;\n",
       "    padding-top:0px;\n",
       "    padding-bottom:0px;\n",
       "    padding-left:3px;\n",
       "    padding-right:3px;\n",
       "    border-radius: 3px;\n",
       "    display: inline-block;\n",
       "}\n",
       ".console::before {\n",
       "    content: \"Console\";\n",
       "}\n",
       "\n",
       "/* Editor */\n",
       ".editor {\n",
       "    background-color:#d2d2d2;\n",
       "    color:#00b300;\n",
       "    font-size: 12px;\n",
       "    line-height: 1.4;\n",
       "    border:1px solid #bfbfbf;\n",
       "    padding-top:0px;\n",
       "    padding-bottom:0px;\n",
       "    padding-left:3px;\n",
       "    padding-right:3px;\n",
       "    border-radius: 3px;\n",
       "    display: inline-block;\n",
       "}\n",
       ".editor::before {\n",
       "    content: \"Editor\";\n",
       "}\n",
       "\n",
       "\n",
       "\n",
       "/* Copy to CONSOLE */\n",
       ".c2c {\n",
       "    background-color:#d2d2d2;\n",
       "    color:#ff8080;\n",
       "    font-size:13px;\n",
       "    border:1px solid #bfbfbf;\n",
       "    padding:1px 3px;\n",
       "    border-radius: 3px;\n",
       "    margin-top: 10px;\n",
       "    display: inline-block;\n",
       "}\n",
       "\n",
       ".c2c::before {\n",
       "    content: \"Copy-paste into Spyder's Console\";\n",
       "}\n",
       "\n",
       "/* Type in CONSOLE */\n",
       ".t2c {\n",
       "    background-color:#d2d2d2;\n",
       "    color:#ff8080;\n",
       "    font-size:13px;\n",
       "    border:1px solid #bfbfbf;\n",
       "    padding:1px 3px;\n",
       "    border-radius: 3px;\n",
       "    margin-top: 10px;\n",
       "    display: inline-block;\n",
       "}\n",
       "\n",
       ".t2c::before {\n",
       "    content: \"Type into Spyder's Console\";\n",
       "}\n",
       "\n",
       "\n",
       "/* SOURCE */\n",
       ".source {\n",
       "    background-color:#d2d2d2;\n",
       "    color:#009EBF;\n",
       "    font-size: 12px;\n",
       "    line-height: 1.4;\n",
       "    font-weight: bold;\n",
       "    border:1px solid #bfbfbf;\n",
       "    padding-top:0px;\n",
       "    padding-bottom:0px;\n",
       "    padding-left:3px;\n",
       "    padding-right:3px;\n",
       "    border-radius: 3px;\n",
       "    display: inline-block;\n",
       "}\n",
       ".source::before {\n",
       "    content: \"\\25B6\" \"Source\";\n",
       "}\n",
       "\n",
       "\n",
       "/* RUN */\n",
       ".run {\n",
       "    background-color:#d2d2d2;\n",
       "    color:#00b300;\n",
       "    font-size: 12px;\n",
       "    line-height: 1.4;\n",
       "    font-weight: bold;\n",
       "    border:1px solid #bfbfbf;\n",
       "    padding-top:0px;\n",
       "    padding-bottom:0px;\n",
       "    padding-left:3px;\n",
       "    padding-right:3px;\n",
       "    border-radius: 3px;\n",
       "    display: inline-block;\n",
       "}\n",
       ".run::before {\n",
       "    content: \"\\25B6\" \"RUN\";\n",
       "}\n",
       "\n",
       "/* RUN */\n",
       ".runcell {\n",
       "    background-color:#d2d2d2;\n",
       "    color:#00b300;\n",
       "    font-size: 12px;\n",
       "    line-height: 1.4;\n",
       "    border:1px solid #bfbfbf;\n",
       "    padding-top:0px;\n",
       "    padding-bottom:0px;\n",
       "    padding-left:3px;\n",
       "    padding-right:3px;\n",
       "    border-radius: 3px;\n",
       "    display: inline-block;\n",
       "}\n",
       ".runcell::before {\n",
       "    content: \"RUN current cell\";\n",
       "}\n",
       "\n",
       "/* FILE */\n",
       ".file {\n",
       "    color:#b36b00;\n",
       "    font-size: 12px;\n",
       "    line-height: 1.4;\n",
       "    font-weight: bold;\n",
       "    border:1px solid #bfbfbf;\n",
       "    padding-top:0px;\n",
       "    padding-bottom:0px;\n",
       "    padding-left:3px;\n",
       "    padding-right:3px;\n",
       "    border-radius: 3px;\n",
       "    display: inline-block;\n",
       "}\n",
       "\n",
       "/* important */\n",
       ".important {\n",
       "    background-color:#ff4d4d;\n",
       "    color:black;\n",
       "    font-size: 13px;\n",
       "    line-height: 1.4;\n",
       "    font-weight: bold;\n",
       "    border:1px solid #bfbfbf;\n",
       "    padding-top:0px;\n",
       "    padding-bottom:0px;\n",
       "    padding-left:3px;\n",
       "    padding-right:3px;\n",
       "    border-radius: 3px;\n",
       "    display: inline-block;\n",
       "    margin-top:5px;\n",
       "}\n",
       ".important::before {\n",
       "    content: \"Important:\";\n",
       "}\n",
       "\n",
       "/* important */\n",
       ".note {\n",
       "    background-color:#ffff80;\n",
       "    color:black;\n",
       "    font-size: 13px;\n",
       "    line-height: 1.4;\n",
       "    font-weight: bold;\n",
       "    border:1px solid #bfbfbf;\n",
       "    padding-top:0px;\n",
       "    padding-bottom:0px;\n",
       "    padding-left:3px;\n",
       "    padding-right:3px;\n",
       "    border-radius: 3px;\n",
       "    display: inline-block;\n",
       "    margin-top:5px;\n",
       "}\n",
       ".note::before {\n",
       "    content: \"Note:\";\n",
       "}\n",
       "\n",
       "\n",
       "/* TODO */\n",
       ".TODO {\n",
       "    background-color:red;\n",
       "    color:black;\n",
       "    font-size:18px;\n",
       "    width:100%;\n",
       "    padding:10px;\n",
       "}\n",
       ".TODO::before {\n",
       "    content: \"TO-DO:\";\n",
       "}\n",
       "\n",
       "\n",
       ".nomenclature {\n",
       "    font-family: \"SF Mono\",\"Segoe UI Mono\",\"Roboto Mono\",\"Ubuntu Mono\",Menlo,Courier,monospace;\n",
       "    background-color:#ffff80;\n",
       "    color:black;\n",
       "    font-size: 15px;\n",
       "    line-height: 1.4;\n",
       "    font-weight: bold;\n",
       "    border:1px solid #bfbfbf;\n",
       "    padding-left:3px;\n",
       "    padding-right:3px;\n",
       "    display: inline-block;\n",
       "    margin-top:3px;\n",
       "}\n",
       "\n",
       "\n",
       "\n",
       ".big_title {\n",
       "    background-color:#cccccc;\n",
       "    color:black;\n",
       "    font-size: 35px;\n",
       "    line-height: 1.4;\n",
       "    font-weight: bold;\n",
       "    border:1px solid #8c8c8c;\n",
       "    padding:20px;\n",
       "    margin-top:5px;\n",
       "    width:100%;\n",
       "}\n",
       "\n",
       "\n",
       ".codeX {\n",
       "    font-family: \"SF Mono\",\"Segoe UI Mono\",\"Roboto Mono\",\"Ubuntu Mono\",Menlo,Courier,monospace;\n",
       "    background-color:#e6e6e6;\n",
       "    color:#0066ff;\n",
       "    font-size: 13px;\n",
       "    line-height: 1.4;\n",
       "    padding:2px;\n",
       "    display: inline-block;\n",
       "}\n",
       "\n",
       "\n",
       "\n",
       "/* checkpoint */\n",
       ".checkpoint {\n",
       "    background-color:yellow;\n",
       "    color:blue;\n",
       "    font-size: 15px;\n",
       "    line-height: 1.4;\n",
       "    font-weight: bold;\n",
       "    border:1px solid #bfbfbf;\n",
       "    padding-top:0px;\n",
       "    padding-bottom:0px;\n",
       "    padding-left:3px;\n",
       "    padding-right:3px;\n",
       "    border-radius: 3px;\n",
       "    display: inline-block;\n",
       "    margin-top:5px;\n",
       "}\n",
       "\n",
       ".codeerror {\n",
       "    background-color:#ffb3b3;\n",
       "    color:red;\n",
       "    font-size: 13px;\n",
       "    line-height: 1.4;\n",
       "    border:1px solid #ffb3b3;\n",
       "    padding-top:7px;\n",
       "    padding-bottom:7px;\n",
       "    padding-left:7px;\n",
       "    padding-right:7px;\n",
       "    border-radius: 3px;\n",
       "    margin:20px;\n",
       "    margin-left:25px;\n",
       "}\n",
       "\n",
       ".lineerror {\n",
       "    background-color:#ffb3b3;\n",
       "    color:red;\n",
       "    font-size: 13px;\n",
       "    line-height: 1.4;\n",
       "    border:1px solid #ffb3b3;\n",
       "    padding-top:0px;\n",
       "    padding-bottom:0px;\n",
       "    padding-left:3px;\n",
       "    padding-right:3px;\n",
       "    border-radius: 3px;\n",
       "    display: inline-block;\n",
       "    margin-top:5px;\n",
       "}\n",
       "\n",
       "\n",
       "/* terminal */\n",
       ".terminal {\n",
       "    background-color:black;\n",
       "    color:white;\n",
       "    font-size: 12px;\n",
       "    line-height: 1.4;\n",
       "    border:1px solid black;\n",
       "    padding-top:0px;\n",
       "    padding-bottom:0px;\n",
       "    padding-left:3px;\n",
       "    padding-right:3px;\n",
       "    border-radius: 3px;\n",
       "    display: inline-block;\n",
       "}\n",
       ".terminal::before {\n",
       "    content: \"Terminal (i.e. Anaconda Promt)\";\n",
       "}\n",
       ".terminalBlock {\n",
       "    font-family: \"SF Mono\",\"Segoe UI Mono\",\"Roboto Mono\",\"Ubuntu Mono\",Menlo,Courier,monospace;\n",
       "    background-color:black;\n",
       "    color:white;\n",
       "    font-size: 14px;\n",
       "    line-height: 1.4;\n",
       "    border:1px solid black;\n",
       "    padding-top:7px;\n",
       "    padding-bottom:7px;\n",
       "    padding-left:7px;\n",
       "    padding-right:7px;\n",
       "    border-radius: 3px;\n",
       "    margin:20px;\n",
       "    margin-left:25px;\n",
       "}\n",
       "\n",
       ".fakeheader {\n",
       "    font-size: 20px;\n",
       "    font-weight:bold;\n",
       "    background-color:#ccebff;\n",
       "    border:1px solid #b3e0ff;\n",
       "    padding:2px;\n",
       "    margin-top:30px;\n",
       "    margin-bottom:15px;\n",
       "}\n",
       "\n",
       "\n",
       "/* Headers */\n",
       "h1 {\n",
       "    background-color:#99d6ff;\n",
       "    border:1px solid #007acc;\n",
       "    padding:8px;\n",
       "}\n",
       "\n",
       "h2 {\n",
       "    background-color:#ccebff;\n",
       "    border:1px solid #b3e0ff;\n",
       "    padding:2px;\n",
       "}\n",
       "\n",
       "h3 {\n",
       "    background-color:#e6f5ff;\n",
       "    padding:1px;\n",
       "}\n",
       "\n",
       "</style>"
      ]
     },
     "metadata": {},
     "output_type": "display_data"
    },
    {
     "data": {
      "text/html": [
       "<style>.Q::before {counter-increment: question_num;\n",
       "    content: 'QUESTION ' counter(question_num) ': '; white-space: pre; }.T::before {counter-increment: task_num;\n",
       "    content: 'Task ' counter(task_num) ': ';</style>"
      ]
     },
     "metadata": {},
     "output_type": "display_data"
    }
   ],
   "source": [
    "cssFile <- '../css/custom.css'\n",
    "IRdisplay::display_html(readChar(cssFile, file.info(cssFile)$size))\n",
    "\n",
    "IRdisplay::display_html(\"<style>.Q::before {counter-increment: question_num;\n",
    "    content: 'QUESTION ' counter(question_num) ': '; white-space: pre; }.T::before {counter-increment: task_num;\n",
    "    content: 'Task ' counter(task_num) ': ';</style>\")"
   ]
  },
  {
   "cell_type": "code",
   "execution_count": null,
   "metadata": {},
   "outputs": [],
   "source": []
  }
 ],
 "metadata": {
  "kernelspec": {
   "display_name": "R",
   "language": "R",
   "name": "ir"
  },
  "language_info": {
   "codemirror_mode": "r",
   "file_extension": ".r",
   "mimetype": "text/x-r-source",
   "name": "R",
   "pygments_lexer": "r",
   "version": "4.0.3"
  }
 },
 "nbformat": 4,
 "nbformat_minor": 4
}
